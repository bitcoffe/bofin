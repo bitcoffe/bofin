{
 "cells": [
  {
   "cell_type": "code",
   "execution_count": 16,
   "id": "vertical-recording",
   "metadata": {},
   "outputs": [],
   "source": [
    "\n",
    "def _pad_csr(A, row_scale, col_scale, insertrow=0, insertcol=0):\n",
    "    \"\"\"\n",
    "    Expand the input csr_matrix to a greater space as given by the scale.\n",
    "    Effectively inserting A into a larger matrix\n",
    "         zeros([A.shape[0]*row_scale, A.shape[1]*col_scale]\n",
    "    at the position [A.shape[0]*insertrow, A.shape[1]*insertcol]\n",
    "    The same could be achieved through using a kron with a matrix with\n",
    "    one element set to 1. However, this is more efficient\n",
    "    \"\"\"\n",
    "\n",
    "    # ajgpitch 2016-03-08:\n",
    "    # Clearly this is a very simple operation in dense matrices\n",
    "    # It seems strange that there is nothing equivalent in sparse however,\n",
    "    # after much searching most threads suggest directly addressing\n",
    "    # the underlying arrays, as done here.\n",
    "    # This certainly proved more efficient than other methods such as stacking\n",
    "    #TODO: Perhaps cythonize and move to spmatfuncs\n",
    "\n",
    "    if not isinstance(A, sp.csr_matrix):\n",
    "        raise TypeError(\"First parameter must be a csr matrix\")\n",
    "    nrowin = A.shape[0]\n",
    "    ncolin = A.shape[1]\n",
    "    nrowout = nrowin*row_scale\n",
    "    ncolout = ncolin*col_scale\n",
    "\n",
    "    A._shape = (nrowout, ncolout)\n",
    "    if insertcol == 0:\n",
    "        pass\n",
    "    elif insertcol > 0 and insertcol < col_scale:\n",
    "        A.indices = A.indices + insertcol*ncolin\n",
    "    else:\n",
    "        raise ValueError(\"insertcol must be >= 0 and < col_scale\")\n",
    "\n",
    "    if insertrow == 0:\n",
    "        A.indptr = np.concatenate((A.indptr,\n",
    "                        np.array([A.indptr[-1]]*(row_scale-1)*nrowin)))\n",
    "    elif insertrow == row_scale-1:\n",
    "        A.indptr = np.concatenate((np.array([0]*(row_scale - 1)*nrowin),\n",
    "                                   A.indptr))\n",
    "    elif insertrow > 0 and insertrow < row_scale - 1:\n",
    "         A.indptr = np.concatenate((np.array([0]*insertrow*nrowin), A.indptr,\n",
    "                np.array([A.indptr[-1]]*(row_scale - insertrow - 1)*nrowin)))\n",
    "    else:\n",
    "        raise ValueError(\"insertrow must be >= 0 and < row_scale\")\n",
    "\n",
    "    return A"
   ]
  },
  {
   "cell_type": "code",
   "execution_count": 17,
   "id": "changing-intervention",
   "metadata": {},
   "outputs": [
    {
     "name": "stdout",
     "output_type": "stream",
     "text": [
      "4.33 ns ± 0.00679 ns per loop (mean ± std. dev. of 7 runs, 100000000 loops each)\n"
     ]
    }
   ],
   "source": [
    "%timeit 1+2"
   ]
  },
  {
   "cell_type": "code",
   "execution_count": 18,
   "id": "warming-pollution",
   "metadata": {},
   "outputs": [],
   "source": [
    "import scipy.sparse as sp\n",
    "import numpy as np"
   ]
  },
  {
   "cell_type": "code",
   "execution_count": 19,
   "id": "incorrect-saying",
   "metadata": {},
   "outputs": [],
   "source": [
    "from qutip import *"
   ]
  },
  {
   "cell_type": "code",
   "execution_count": 50,
   "id": "appropriate-margin",
   "metadata": {},
   "outputs": [],
   "source": [
    "Q = destroy(100)\n",
    "\n",
    "N_he = 10\n",
    "block =  100*100\n",
    "\n",
    "\n",
    "op = spre(Q).data"
   ]
  },
  {
   "cell_type": "code",
   "execution_count": 8,
   "id": "historic-myanmar",
   "metadata": {},
   "outputs": [
    {
     "data": {
      "text/plain": [
       "<function time.time>"
      ]
     },
     "execution_count": 8,
     "metadata": {},
     "output_type": "execute_result"
    }
   ],
   "source": [
    "st"
   ]
  },
  {
   "cell_type": "code",
   "execution_count": 51,
   "id": "fallen-looking",
   "metadata": {},
   "outputs": [
    {
     "name": "stdout",
     "output_type": "stream",
     "text": [
      "10.784727334976196\n"
     ]
    }
   ],
   "source": [
    "block = 100*100\n",
    "import time as time\n",
    "L_helems = sp.lil_matrix(\n",
    "            (N_he*block,N_he*block),\n",
    "            dtype=np.complex,\n",
    "        )\n",
    "\n",
    "st= time.time()\n",
    "L_helems[0 : 0 + block, 0 : 0 + block] += op\n",
    "end = time.time()\n",
    "\n",
    "print(end-st)"
   ]
  },
  {
   "cell_type": "code",
   "execution_count": 52,
   "id": "victorian-chassis",
   "metadata": {},
   "outputs": [
    {
     "name": "stdout",
     "output_type": "stream",
     "text": [
      "0.004386186599731445\n"
     ]
    }
   ],
   "source": [
    "\n",
    "L_helems2 = sp.csr_matrix((N_he*block, N_he*block),\n",
    "                                     dtype=complex)\n",
    "\n",
    "st= time.time()\n",
    "L_helems2 = _pad_csr(op, N_he, N_he, 0, 0)\n",
    "end = time.time()\n",
    "\n",
    "print(end-st)"
   ]
  },
  {
   "cell_type": "code",
   "execution_count": 53,
   "id": "welsh-captain",
   "metadata": {},
   "outputs": [
    {
     "data": {
      "text/plain": [
       "array([1.        +0.j, 1.41421356+0.j, 1.73205081+0.j, ...,\n",
       "       9.8488578 +0.j, 9.89949494+0.j, 9.94987437+0.j])"
      ]
     },
     "execution_count": 53,
     "metadata": {},
     "output_type": "execute_result"
    }
   ],
   "source": [
    "L_helems.tocsr().data\n"
   ]
  },
  {
   "cell_type": "code",
   "execution_count": 54,
   "id": "federal-amount",
   "metadata": {},
   "outputs": [
    {
     "data": {
      "text/plain": [
       "array([1.        +0.j, 1.41421356+0.j, 1.73205081+0.j, ...,\n",
       "       9.8488578 +0.j, 9.89949494+0.j, 9.94987437+0.j])"
      ]
     },
     "execution_count": 54,
     "metadata": {},
     "output_type": "execute_result"
    }
   ],
   "source": [
    "L_helems2.data"
   ]
  },
  {
   "cell_type": "code",
   "execution_count": 55,
   "id": "square-satin",
   "metadata": {},
   "outputs": [
    {
     "data": {
      "text/plain": [
       "<100000x100000 sparse matrix of type '<class 'numpy.complex128'>'\n",
       "\twith 0 stored elements in Compressed Sparse Row format>"
      ]
     },
     "execution_count": 55,
     "metadata": {},
     "output_type": "execute_result"
    }
   ],
   "source": [
    "L_helems - L_helems2"
   ]
  },
  {
   "cell_type": "code",
   "execution_count": null,
   "id": "affecting-sugar",
   "metadata": {},
   "outputs": [],
   "source": []
  }
 ],
 "metadata": {
  "kernelspec": {
   "display_name": "Python 3",
   "language": "python",
   "name": "python3"
  },
  "language_info": {
   "codemirror_mode": {
    "name": "ipython",
    "version": 3
   },
   "file_extension": ".py",
   "mimetype": "text/x-python",
   "name": "python",
   "nbconvert_exporter": "python",
   "pygments_lexer": "ipython3",
   "version": "3.8.5"
  }
 },
 "nbformat": 4,
 "nbformat_minor": 5
}
